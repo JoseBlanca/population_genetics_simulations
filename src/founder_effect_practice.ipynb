{
 "cells": [
  {
   "cell_type": "markdown",
   "metadata": {},
   "source": [
    "# Founder Effect\n",
    "\n",
    "In this simulation we are going to simulate the foundation of a new population. The ancestral population will not disapear, so both populations will exist at generation 0 (present day).\n",
    "\n",
    "Two microevolutives forces will be acting in this simulation, drift and mutation. The parameters used are:\n",
    "\n",
    "  - A genomic region of 500,000 nucleotides\n",
    "  - A recombination rate of 1e-8 per site and generation\n",
    "  - A mutation rate of 1e-8"
   ]
  },
  {
   "cell_type": "code",
   "execution_count": null,
   "metadata": {},
   "outputs": [],
   "source": [
    "from IPython.display import display\n",
    "from founder_effect_app import FounderEffectApp\n",
    "display(FounderEffectApp())"
   ]
  },
  {
   "attachments": {},
   "cell_type": "markdown",
   "metadata": {},
   "source": [
    "## 1. Founder effect\n",
    "\n",
    "  - How is the diversity of pop2 compared with the diversity of pop1?\n",
    "  - When does the change in distance becames noticeable?\n",
    "\n",
    "## 2. Try with different number of founding individuals\n",
    "\n",
    "  - What happens with the diversities and the genetic distances?\n"
   ]
  },
  {
   "cell_type": "markdown",
   "metadata": {},
   "source": []
  }
 ],
 "metadata": {
  "interpreter": {
   "hash": "91333ed49fc9d0bb54b7c884f80045a87accdf6a1a88fe176e471380fcbbe7ed"
  },
  "kernelspec": {
   "display_name": "Python 3.9.7 ('pyenv': venv)",
   "language": "python",
   "name": "python3"
  },
  "language_info": {
   "codemirror_mode": {
    "name": "ipython",
    "version": 3
   },
   "file_extension": ".py",
   "mimetype": "text/x-python",
   "name": "python",
   "nbconvert_exporter": "python",
   "pygments_lexer": "ipython3",
   "version": "3.12.2"
  },
  "orig_nbformat": 4
 },
 "nbformat": 4,
 "nbformat_minor": 2
}
