{
 "cells": [
  {
   "cell_type": "markdown",
   "metadata": {},
   "source": [
    "# Founder Effect"
   ]
  },
  {
   "cell_type": "code",
   "execution_count": null,
   "metadata": {},
   "outputs": [],
   "source": [
    "from IPython.display import display\n",
    "from founder_effect_app import FounderEffectApp\n",
    "display(FounderEffectApp())"
   ]
  },
  {
   "cell_type": "markdown",
   "metadata": {},
   "source": [
    "## 1. Founder effect\n",
    "\n",
    "  - How is the diversity of pop2 compared with the diversity of pop1?\n",
    "  - When does the change in distance becames noticeable?\n",
    "  - What happens if we set a high number of founding individuals?\n",
    "  - if we set a high number of individuals, is the founding effect noticeable?"
   ]
  },
  {
   "cell_type": "markdown",
   "metadata": {},
   "source": []
  }
 ],
 "metadata": {
  "interpreter": {
   "hash": "91333ed49fc9d0bb54b7c884f80045a87accdf6a1a88fe176e471380fcbbe7ed"
  },
  "kernelspec": {
   "display_name": "Python 3.9.7 ('pyenv': venv)",
   "language": "python",
   "name": "python3"
  },
  "language_info": {
   "codemirror_mode": {
    "name": "ipython",
    "version": 3
   },
   "file_extension": ".py",
   "mimetype": "text/x-python",
   "name": "python",
   "nbconvert_exporter": "python",
   "pygments_lexer": "ipython3",
   "version": "3.9.7"
  },
  "orig_nbformat": 4
 },
 "nbformat": 4,
 "nbformat_minor": 2
}
