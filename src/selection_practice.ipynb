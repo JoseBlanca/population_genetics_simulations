{
 "cells": [
  {
   "cell_type": "markdown",
   "id": "5c321522",
   "metadata": {},
   "source": [
    "# Selection"
   ]
  },
  {
   "cell_type": "code",
   "execution_count": 1,
   "id": "4073818b-f459-47be-a8f6-fb48897e5fa1",
   "metadata": {},
   "outputs": [
    {
     "data": {
      "application/vnd.jupyter.widget-view+json": {
       "model_id": "131e8ae040264e1c8b02ca0876065b3c",
       "version_major": 2,
       "version_minor": 0
      },
      "text/plain": [
       "OneLociTwoAllelesSimulationApp(children=(HBox(children=(VBox(children=(Label(value='Genotypic proportions'), F…"
      ]
     },
     "metadata": {},
     "output_type": "display_data"
    }
   ],
   "source": [
    "from IPython.display import display\n",
    "from one_locus_two_alleles_app import get_app\n",
    "display(get_app(\"full_one_pop_app\"))"
   ]
  },
  {
   "cell_type": "markdown",
   "id": "37ee56d2",
   "metadata": {},
   "source": [
    "## Minor recessive allele (aa) advantage\n",
    "\n",
    "This is the case of a new benefitial mutation.\n",
    "\n",
    "Do simulations starting with mostly AA genotypes and a minimum amount of Aa, and set the fitness of wAA and wAa to different levels from (0.1 to 1).\n",
    "\n",
    "Which is the fate of the A and a alleles?\n",
    "\n",
    "Run the simulation several times. Does the a allele always manages to be fixed in the end? Why?\n",
    "\n",
    "Make the population infinite to remove the drift effect and write down number of generations in which the a allele is fixed\n",
    "\n",
    "## Minor deletereous allele\n",
    "\n",
    "This is a common example in genetic diseases.\n",
    "\n",
    "Start mostly with AA genotypes and a minimum amount of Aa, and set the fitness of waa to different levels from (0.1 to 1) and wAA and WAa to 1 (a is recessive).\n",
    "\n",
    "Does the deletereous allele disapears from the population? (Try with and without drift).\n",
    "\n",
    "What happens when if we make the disease dominant? (wAa = waa)\n",
    "\n",
    "In the case of a dominant disadvantage what happens when this dissadvantage is very low? (wAA=1, wAa=0.9, waa=0.9)\n",
    "\n",
    "## Heterozygote superiority, the malaria case\n",
    "\n",
    "Set wAA=0.8, wAa=1, and waa=0.4. What happens in this case?\n",
    "\n",
    "Try with different fitness values, and study what happens with the allelic and genotypic frequencies.\n",
    "\n",
    "## Heterozygote inferiority\n",
    "\n",
    "Simulate the existance of a big chromosomal inversion that impairs the heterozygotes reproduction. WAA=Waa=1, different values of wAa.\n",
    "\n",
    "What happens in an infinite population? And in a population with 1000 indiviuals?\n",
    "\n",
    "For this case, study also the effect of introducing selfing."
   ]
  },
  {
   "cell_type": "markdown",
   "id": "5a433856",
   "metadata": {},
   "source": []
  }
 ],
 "metadata": {
  "kernelspec": {
   "display_name": "Python 3 (ipykernel)",
   "language": "python",
   "name": "python3"
  },
  "language_info": {
   "codemirror_mode": {
    "name": "ipython",
    "version": 3
   },
   "file_extension": ".py",
   "mimetype": "text/x-python",
   "name": "python",
   "nbconvert_exporter": "python",
   "pygments_lexer": "ipython3",
   "version": "3.9.7"
  }
 },
 "nbformat": 4,
 "nbformat_minor": 5
}
