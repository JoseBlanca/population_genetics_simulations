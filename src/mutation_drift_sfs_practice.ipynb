{
 "cells": [
  {
   "cell_type": "markdown",
   "metadata": {},
   "source": [
    "# Mutation-drift and diversities\n",
    "\n",
    "We are going to study how does the population size affects different diversity parameters.\n",
    "The populations simulated will be subjected to drift an mutation."
   ]
  },
  {
   "cell_type": "code",
   "execution_count": null,
   "metadata": {},
   "outputs": [],
   "source": [
    "from IPython.display import display\n",
    "from mutation_drift_sfs_app import MutationDriftApp\n",
    "display(MutationDriftApp())"
   ]
  },
  {
   "cell_type": "markdown",
   "metadata": {},
   "source": []
  },
  {
   "cell_type": "markdown",
   "metadata": {},
   "source": [
    "## Population size influence in diversity\n",
    "\n",
    "Analyze the influence of the population size in the number or markers and in the number of polymorfic markers. Plot the different diversity indexes for populations of sizes: 500, 1000, 10000, 50000, 100000, 200000, 500000\n",
    "\n",
    " - How does the number of markers change with the population size?\n",
    " - How does the number of polymorphic markers change with population size?\n",
    " - How does the proportion of polymorphic markers and Allele Frequency Spectrum change with population size?"
   ]
  }
 ],
 "metadata": {
  "interpreter": {
   "hash": "91333ed49fc9d0bb54b7c884f80045a87accdf6a1a88fe176e471380fcbbe7ed"
  },
  "kernelspec": {
   "display_name": "Python 3.9.7 ('pyenv': venv)",
   "language": "python",
   "name": "python3"
  },
  "language_info": {
   "codemirror_mode": {
    "name": "ipython",
    "version": 3
   },
   "file_extension": ".py",
   "mimetype": "text/x-python",
   "name": "python",
   "nbconvert_exporter": "python",
   "pygments_lexer": "ipython3",
   "version": "3.9.7"
  },
  "orig_nbformat": 4
 },
 "nbformat": 4,
 "nbformat_minor": 2
}
