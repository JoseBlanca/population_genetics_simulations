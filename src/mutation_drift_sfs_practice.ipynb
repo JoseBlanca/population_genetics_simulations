{
 "cells": [
  {
   "cell_type": "markdown",
   "metadata": {},
   "source": [
    "# Mutation-drift and diversities\n",
    "\n",
    "We are going to study how does the population size affects different diversity parameters.\n",
    "The populations simulated will be subjected to drift an mutation."
   ]
  },
  {
   "cell_type": "code",
   "execution_count": 2,
   "metadata": {},
   "outputs": [
    {
     "data": {
      "application/vnd.jupyter.widget-view+json": {
       "model_id": "c00f42e158d04e0094cb985377dd8ed6",
       "version_major": 2,
       "version_minor": 0
      },
      "text/plain": [
       "MutationDriftApp(children=(VBox(children=(HBox(children=(Label(value='Ref. pop. size:'), IntText(value=100000,…"
      ]
     },
     "metadata": {},
     "output_type": "display_data"
    }
   ],
   "source": [
    "from IPython.display import display\n",
    "from mutation_drift_sfs_app import MutationDriftApp\n",
    "display(MutationDriftApp())"
   ]
  },
  {
   "cell_type": "markdown",
   "metadata": {},
   "source": [
    "## Population size influence in diversity\n",
    "\n",
    "Analyze the influence of the population size in the number or markers and in the number of polymorfic markers. Plot the different diversity indexes for populations of sizes: 500, 1000, 10000, 50000, 100000, 200000, 500000\n",
    "\n",
    " - How does the number of markers change with the population size?\n",
    " - How does the diversity, and number of polymorphic markers change with population size?\n",
    " - How does the proportion of polymorphic markers and Allele Frequency Spectrum change with population size?"
   ]
  }
 ],
 "metadata": {
  "interpreter": {
   "hash": "91333ed49fc9d0bb54b7c884f80045a87accdf6a1a88fe176e471380fcbbe7ed"
  },
  "kernelspec": {
   "display_name": "Python 3.9.7 ('pyenv': venv)",
   "language": "python",
   "name": "python3"
  },
  "language_info": {
   "codemirror_mode": {
    "name": "ipython",
    "version": 3
   },
   "file_extension": ".py",
   "mimetype": "text/x-python",
   "name": "python",
   "nbconvert_exporter": "python",
   "pygments_lexer": "ipython3",
   "version": "3.9.7"
  },
  "orig_nbformat": 4
 },
 "nbformat": 4,
 "nbformat_minor": 2
}
