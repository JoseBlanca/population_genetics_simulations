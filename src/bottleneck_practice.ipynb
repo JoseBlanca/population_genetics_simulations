{
 "cells": [
  {
   "cell_type": "markdown",
   "metadata": {},
   "source": [
    "# Bottleneck\n",
    "\n",
    "We are going to simulate a population that goes through a bottleneck.\n",
    "Two microevolutives forces will be acting in this simulation, drift and mutation. The parameters used are:\n",
    "\n",
    "  - A genomic region of 500,000 nucleotides\n",
    "  - A recombination rate of 1e-8 per site and generation\n",
    "  - A mutation rate of 1e-8"
   ]
  },
  {
   "cell_type": "code",
   "execution_count": 1,
   "metadata": {},
   "outputs": [
    {
     "data": {
      "application/vnd.jupyter.widget-view+json": {
       "model_id": "b02ef15ac5db4c4fb027698435bcfac2",
       "version_major": 2,
       "version_minor": 0
      },
      "text/plain": [
       "BottleneckApp(children=(VBox(children=(IntSlider(value=100000, description='Pop. size', max=500000, min=10000)…"
      ]
     },
     "metadata": {},
     "output_type": "display_data"
    }
   ],
   "source": [
    "from IPython.display import display\n",
    "from bottleneck_app import BottleneckApp\n",
    "display(BottleneckApp())"
   ]
  },
  {
   "cell_type": "markdown",
   "metadata": {},
   "source": [
    "## 1. What happens after the bottleneck\n",
    "\n",
    "If the bottleneck occured between 800 and 1000 generations ago and the population size during that time was 100 individuals.\n",
    "\n",
    "  - What happens to the diversity after the bottleneck? Does it recover?\n",
    "  - Why does the behaviour of the number of polymorphic markers is the oppossite to the nucleotide diversity?\n",
    "  - When does the jump in genetic distance (Fst and PCA) occur?\n",
    "  - Are the original and the extant population genetically close? Why?\n",
    "\n",
    "## 2. How does the size of the population during the bottleneck influence the outcome?\n",
    "\n",
    "Run a bottleneck between generations 800 to 1000 with different population sizes during the bottleneck, and check how the population size influences diversities and genetic distances. You can try with sizes between 100 and 1000 individuals. Take into account that the bottleneck is a random process, so run each scenario three or four times to get accurate measures.\n",
    "\n",
    "## 3. How much time should pass to recover diversity?\n",
    "\n",
    "Does the diversity ever recover after the bottleneck if enough time passes?"
   ]
  },
  {
   "cell_type": "markdown",
   "metadata": {},
   "source": []
  }
 ],
 "metadata": {
  "interpreter": {
   "hash": "91333ed49fc9d0bb54b7c884f80045a87accdf6a1a88fe176e471380fcbbe7ed"
  },
  "kernelspec": {
   "display_name": "Python 3.9.7 ('pyenv': venv)",
   "language": "python",
   "name": "python3"
  },
  "language_info": {
   "codemirror_mode": {
    "name": "ipython",
    "version": 3
   },
   "file_extension": ".py",
   "mimetype": "text/x-python",
   "name": "python",
   "nbconvert_exporter": "python",
   "pygments_lexer": "ipython3",
   "version": "3.9.7"
  },
  "orig_nbformat": 4
 },
 "nbformat": 4,
 "nbformat_minor": 2
}
