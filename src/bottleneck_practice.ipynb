{
 "cells": [
  {
   "cell_type": "markdown",
   "metadata": {},
   "source": [
    "# Bottleneck"
   ]
  },
  {
   "cell_type": "code",
   "execution_count": null,
   "metadata": {},
   "outputs": [],
   "source": [
    "from IPython.display import display\n",
    "from bottleneck_app import BottleneckApp\n",
    "display(BottleneckApp())"
   ]
  },
  {
   "cell_type": "markdown",
   "metadata": {},
   "source": [
    "## 1. What happens after the bottleneck\n",
    "\n",
    "If the bottleneck occured between 800 and 1000 generations ago and the population at that time was 100 individuals.\n",
    "\n",
    "  - What happens to the diversity after the bottleneck? Does it recover?\n",
    "  - When does the jump in genetic distance (Fst and PCA) occur?\n",
    "  - Are the old and the extant population genetically close? Why?\n",
    "\n",
    "## 2. How much time should pass to recover diversity?\n",
    "\n",
    "Does the diversity ever recover after the bottleneck if enough time passes?\n",
    "\n",
    "How does the mutation rate influences that recovery\n"
   ]
  },
  {
   "cell_type": "markdown",
   "metadata": {},
   "source": []
  }
 ],
 "metadata": {
  "interpreter": {
   "hash": "91333ed49fc9d0bb54b7c884f80045a87accdf6a1a88fe176e471380fcbbe7ed"
  },
  "kernelspec": {
   "display_name": "Python 3.9.7 ('pyenv': venv)",
   "language": "python",
   "name": "python3"
  },
  "language_info": {
   "codemirror_mode": {
    "name": "ipython",
    "version": 3
   },
   "file_extension": ".py",
   "mimetype": "text/x-python",
   "name": "python",
   "nbconvert_exporter": "python",
   "pygments_lexer": "ipython3",
   "version": "3.9.7"
  },
  "orig_nbformat": 4
 },
 "nbformat": 4,
 "nbformat_minor": 2
}
