{
 "cells": [
  {
   "cell_type": "markdown",
   "metadata": {},
   "source": [
    "# Balancing selection"
   ]
  },
  {
   "cell_type": "code",
   "execution_count": null,
   "metadata": {},
   "outputs": [],
   "source": [
    "from IPython.display import display\n",
    "from balancing_selection_app import App\n",
    "display(App())"
   ]
  },
  {
   "cell_type": "markdown",
   "metadata": {},
   "source": [
    "si no hay selección la migración hace que las freqA se equilibren\n",
    "si hay deriva se fijará un alelo\n",
    "si hay selección en el mismo sentido se fijará un alelo\n",
    "sei hay selección en sentidos diferentes en las dos poblaciones se acabará con una diversidad mayor\n"
   ]
  },
  {
   "cell_type": "markdown",
   "metadata": {},
   "source": []
  }
 ],
 "metadata": {
  "interpreter": {
   "hash": "91333ed49fc9d0bb54b7c884f80045a87accdf6a1a88fe176e471380fcbbe7ed"
  },
  "kernelspec": {
   "display_name": "Python 3.9.7 ('pyenv': venv)",
   "language": "python",
   "name": "python3"
  },
  "language_info": {
   "codemirror_mode": {
    "name": "ipython",
    "version": 3
   },
   "file_extension": ".py",
   "mimetype": "text/x-python",
   "name": "python",
   "nbconvert_exporter": "python",
   "pygments_lexer": "ipython3",
   "version": "3.9.7"
  },
  "orig_nbformat": 4
 },
 "nbformat": 4,
 "nbformat_minor": 2
}
