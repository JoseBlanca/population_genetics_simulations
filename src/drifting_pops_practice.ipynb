{
 "cells": [
  {
   "cell_type": "markdown",
   "metadata": {},
   "source": [
    "# Population drift\n",
    "\n",
    "We are going to simulate three populations that some generations ago split from an ancestral population.\n",
    "Two microevolutives forces will be acting in this simulation, drift and mutation. The parameters used are:\n",
    "\n",
    "  - A genomic region of 500,000 nucleotides\n",
    "  - A recombination rate of 1e-8 per site and generation\n",
    "  - A mutation rate of 1e-8\n",
    "\n",
    "In this simulation we want to analyze the effect of the population size in the population diversities and the distances between populations.From every population, at different times we will sample 20 individuals and we are going to calculate:\n",
    "\n",
    "  - The evolution of the nucleotide diversity for each population\n",
    "  - The final Fsts between populations (at the present time)\n",
    "  - A PCA at different times."
   ]
  },
  {
   "cell_type": "code",
   "execution_count": null,
   "metadata": {},
   "outputs": [],
   "source": [
    "from IPython.display import display\n",
    "from drifting_pops_practice_app import ThreePopDriftSimulationApp\n",
    "display(ThreePopDriftSimulationApp())"
   ]
  },
  {
   "cell_type": "markdown",
   "metadata": {},
   "source": [
    "## 1. Drift with an small population\n",
    "\n",
    "What would happened if pop 3 has only 500 individuals?\n",
    "\n",
    "  - What happens to its diversity? Why?\n",
    "  - What happens to its genetic distance (Fst) with the other populations? Why?\n",
    "  - What happens to its individuals in the PCA plot\n",
    "\n",
    "## 2. Drift of two very large populations\n",
    "\n",
    "If you make pop1 and pop2 larger (100.000 individuals):\n",
    "\n",
    "  - What happens to its diversity? Why?\n",
    "  - What happens to its genetic distance (Fst) with the other populations? Why?\n",
    "  - What happens to its individuals in the PCA plot"
   ]
  }
 ],
 "metadata": {
  "interpreter": {
   "hash": "91333ed49fc9d0bb54b7c884f80045a87accdf6a1a88fe176e471380fcbbe7ed"
  },
  "kernelspec": {
   "display_name": "Python 3 (ipykernel)",
   "language": "python",
   "name": "python3"
  },
  "language_info": {
   "codemirror_mode": {
    "name": "ipython",
    "version": 3
   },
   "file_extension": ".py",
   "mimetype": "text/x-python",
   "name": "python",
   "nbconvert_exporter": "python",
   "pygments_lexer": "ipython3",
   "version": "3.9.7"
  }
 },
 "nbformat": 4,
 "nbformat_minor": 4
}
