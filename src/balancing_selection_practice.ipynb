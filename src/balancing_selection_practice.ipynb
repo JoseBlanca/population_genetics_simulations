{
 "cells": [
  {
   "cell_type": "markdown",
   "metadata": {},
   "source": [
    "# Balancing selection with different selective preasures"
   ]
  },
  {
   "cell_type": "code",
   "execution_count": null,
   "metadata": {},
   "outputs": [],
   "source": [
    "from IPython.display import display\n",
    "from balancing_selection_app import App\n",
    "display(App())"
   ]
  },
  {
   "cell_type": "markdown",
   "metadata": {},
   "source": [
    "# Selection in both populations\n",
    "\n",
    "Set fitness values that creates the same selection preasure in both populations in favor of the A allele.\n",
    "What happens with the A allelic frequency and the diversity? Does the migration beteween both populations influence something?\n",
    "\n",
    "# Selection and migration\n",
    "\n",
    "Set the wAA and WAa fitness in the population 1 to 0.8 and the migration rates of the two populations to 0.6.\n",
    "What happens to the A allelic frequencies in both populations?\n",
    "\n",
    "What happens in this situation with the expected heterozygosity when compared to no selection. Try running the simulation with diferrent wAA and WAa and study what happens when there is no selection or when there is a strong selection.\n",
    "\n",
    "# Balancing selection\n",
    "\n",
    "Let's imagine that now we have selection favoring the A allele in one population and the a allele in the other. We can assume that A is dominant.\n",
    "This would be the case, for instance, of a wild and a cultivated population living in the same area. There will be some crosses between them, so some gene flow, and one allele (for instance in a fruit size gene) will be favored in the wild population and the other will be selected in the cultivated one.\n",
    "\n",
    "This is also the case in a cultivated species in which some varieties are selected from some fruit size, shape, or color and other for others.\n",
    "\n",
    "Let's try starting with the following settings:\n",
    "\n",
    "Pop. 1:\n",
    "  - Freq. A = 1\n",
    "  - WAA = 1\n",
    "  - WAa = 1\n",
    "  - waa = 0.7\n",
    "  - imigration = 0.06\n",
    "\n",
    "Pop. 2:\n",
    "  - Freq. A = 0\n",
    "  - WAA = 0.7\n",
    "  - WAa = 0.7\n",
    "  - waa = 1\n",
    "  - imigration = 0.06\n",
    "\n",
    "What happens now with the diversity in both populations?\n",
    "\n",
    "How dos the diversity respond to different selective preasures."
   ]
  },
  {
   "cell_type": "markdown",
   "metadata": {},
   "source": []
  }
 ],
 "metadata": {
  "interpreter": {
   "hash": "91333ed49fc9d0bb54b7c884f80045a87accdf6a1a88fe176e471380fcbbe7ed"
  },
  "kernelspec": {
   "display_name": "Python 3.9.7 ('pyenv': venv)",
   "language": "python",
   "name": "python3"
  },
  "language_info": {
   "codemirror_mode": {
    "name": "ipython",
    "version": 3
   },
   "file_extension": ".py",
   "mimetype": "text/x-python",
   "name": "python",
   "nbconvert_exporter": "python",
   "pygments_lexer": "ipython3",
   "version": "3.9.7"
  },
  "orig_nbformat": 4
 },
 "nbformat": 4,
 "nbformat_minor": 2
}
