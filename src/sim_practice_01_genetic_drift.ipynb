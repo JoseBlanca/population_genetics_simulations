{
 "cells": [
  {
   "cell_type": "markdown",
   "metadata": {},
   "source": [
    "# Genetic drift practice\n",
    "\n",
    "Genetic drift is the random variation in alleles frequencies in finite populations.\n",
    "\n",
    "Let's simulate a population with:\n",
    "\n",
    "  - one locus\n",
    "  - two alleles\n",
    "  - no imbreeding\n",
    "  - no selection"
   ]
  },
  {
   "cell_type": "code",
   "execution_count": 1,
   "metadata": {},
   "outputs": [
    {
     "data": {
      "application/vnd.jupyter.widget-view+json": {
       "model_id": "ba27468fc50f47a4bfceeb375c27fd52",
       "version_major": 2,
       "version_minor": 0
      },
      "text/plain": [
       "OneLociTwoAllelesSimulationApp(children=(HBox(children=(Label(value='Freq. A'), FloatSlider(value=0.5, max=1.0…"
      ]
     },
     "metadata": {},
     "output_type": "display_data"
    }
   ],
   "source": [
    "from IPython.display import display\n",
    "from one_locus_two_alleles_app import get_app\n",
    "display(get_app(\"allelic_freqs_hw_assumed_app\"))"
   ]
  },
  {
   "cell_type": "markdown",
   "metadata": {},
   "source": [
    "## 1. Which is the effect of the population size\n",
    "\n",
    "Run the simulation for 500 generations and 10 populations and calculate how many times an allele gets fixed for the sizes:\n",
    "\n",
    "  - 50 individuals\n",
    "  - 100 individuals\n",
    "  - 200 individuals\n",
    "  - 300 individuals\n",
    "  - 400 individuals\n",
    "  - 500 individuals\n",
    "\n",
    "Plot the number the number of populations not fixed at 500 generations vs the number of individuals.\n",
    "\n",
    "Which would be the consequences of this effect for an endangered species?\n",
    "\n",
    "Which would be the consequences for a small breeding population in a seed company?\n",
    "\n",
    "## 2. Probability of an allele of being fixed\n",
    "\n",
    "In a population of 200 individuals run the simulation for 1000 generations and calculate the probability of an allele of being fixed versus its initial frequency. Set the initial frequency to 0.1, 0.2, 0.3, 0.4 and 0.5 and count how many times the A allele is fixed, the a allele is fixed, or no allele is fixed at the end of the simulation."
   ]
  },
  {
   "cell_type": "markdown",
   "metadata": {},
   "source": []
  }
 ],
 "metadata": {
  "interpreter": {
   "hash": "91333ed49fc9d0bb54b7c884f80045a87accdf6a1a88fe176e471380fcbbe7ed"
  },
  "kernelspec": {
   "display_name": "Python 3 (ipykernel)",
   "language": "python",
   "name": "python3"
  },
  "language_info": {
   "codemirror_mode": {
    "name": "ipython",
    "version": 3
   },
   "file_extension": ".py",
   "mimetype": "text/x-python",
   "name": "python",
   "nbconvert_exporter": "python",
   "pygments_lexer": "ipython3",
   "version": "3.9.7"
  }
 },
 "nbformat": 4,
 "nbformat_minor": 4
}
