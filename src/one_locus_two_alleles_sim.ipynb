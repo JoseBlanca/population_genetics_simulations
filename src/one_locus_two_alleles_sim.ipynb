{
 "cells": [
  {
   "cell_type": "code",
   "execution_count": 2,
   "id": "4073818b-f459-47be-a8f6-fb48897e5fa1",
   "metadata": {},
   "outputs": [
    {
     "data": {
      "application/vnd.jupyter.widget-view+json": {
       "model_id": "ca3c91f1ef5d4ee69f49cf81694fa97a",
       "version_major": 2,
       "version_minor": 0
      },
      "text/plain": [
       "OneLociTwoAllelesSimulationApp(children=(HBox(children=(VBox(children=(Label(value='Genotypic proportions'), F…"
      ]
     },
     "metadata": {},
     "output_type": "display_data"
    }
   ],
   "source": [
    "from IPython.display import display\n",
    "from one_locus_two_alleles_app import OneLociTwoAllelesSimulationApp\n",
    "display(OneLociTwoAllelesSimulationApp(allow_selection=False, allow_mutation=False, allow_selfing=False))"
   ]
  }
 ],
 "metadata": {
  "kernelspec": {
   "display_name": "Python 3 (ipykernel)",
   "language": "python",
   "name": "python3"
  },
  "language_info": {
   "codemirror_mode": {
    "name": "ipython",
    "version": 3
   },
   "file_extension": ".py",
   "mimetype": "text/x-python",
   "name": "python",
   "nbconvert_exporter": "python",
   "pygments_lexer": "ipython3",
   "version": "3.9.7"
  }
 },
 "nbformat": 4,
 "nbformat_minor": 5
}
