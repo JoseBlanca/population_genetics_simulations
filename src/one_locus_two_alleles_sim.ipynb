{
 "cells": [
  {
   "cell_type": "code",
   "execution_count": 1,
   "id": "4073818b-f459-47be-a8f6-fb48897e5fa1",
   "metadata": {},
   "outputs": [
    {
     "data": {
      "application/vnd.jupyter.widget-view+json": {
       "model_id": "d716351bcba24e7b8c4cb5b50c671c14",
       "version_major": 2,
       "version_minor": 0
      },
      "text/plain": [
       "OneLociTwoAllelesSimulationApp(children=(HBox(children=(Label(value='Freq. A'), FloatSlider(value=0.5, max=1.0…"
      ]
     },
     "metadata": {},
     "output_type": "display_data"
    }
   ],
   "source": [
    "from IPython.display import display\n",
    "from one_locus_two_alleles_app import get_app\n",
    "app_name_1 = \"allelic_freqs_hw_assumed_app\"\n",
    "app_name_2 = \"simple_one_pop_app\"\n",
    "app_name_3 = \"full_one_pop_app\"\n",
    "display(get_app(app_name_1))"
   ]
  }
 ],
 "metadata": {
  "kernelspec": {
   "display_name": "Python 3 (ipykernel)",
   "language": "python",
   "name": "python3"
  },
  "language_info": {
   "codemirror_mode": {
    "name": "ipython",
    "version": 3
   },
   "file_extension": ".py",
   "mimetype": "text/x-python",
   "name": "python",
   "nbconvert_exporter": "python",
   "pygments_lexer": "ipython3",
   "version": "3.9.7"
  }
 },
 "nbformat": 4,
 "nbformat_minor": 5
}
